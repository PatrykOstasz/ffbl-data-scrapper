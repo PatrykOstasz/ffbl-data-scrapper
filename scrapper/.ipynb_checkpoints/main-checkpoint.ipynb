{
 "cells": [
  {
   "cell_type": "code",
   "execution_count": 1,
   "metadata": {},
   "outputs": [],
   "source": [
    "import time"
   ]
  },
  {
   "cell_type": "code",
   "execution_count": 2,
   "metadata": {},
   "outputs": [],
   "source": [
    "from bs4 import BeautifulSoup\n",
    "from contextlib import closing\n",
    "from selenium.webdriver import Edge\n",
    "import pandas as pd"
   ]
  },
  {
   "cell_type": "code",
   "execution_count": 3,
   "metadata": {},
   "outputs": [],
   "source": [
    "def convertFromWsToWebWs(name):\n",
    "    return name.replace(\" \", \"%20\")"
   ]
  },
  {
   "cell_type": "code",
   "execution_count": 4,
   "metadata": {},
   "outputs": [],
   "source": [
    "search = \"listing?string=\"\n",
    "buynow = \"offerTypeBuyNow=1\"\n",
    "logicaland = \"&\"\n",
    "searchName = \"Final Fantasy\""
   ]
  },
  {
   "cell_type": "code",
   "execution_count": 5,
   "metadata": {},
   "outputs": [],
   "source": [
    "url = \"https://allegro.pl/\" + search + convertFromWsToWebWs(searchName) + logicaland + buynow"
   ]
  },
  {
   "cell_type": "code",
   "execution_count": 6,
   "metadata": {},
   "outputs": [],
   "source": [
    "with closing(Edge()) as browser:\n",
    "    browser.get(url)\n",
    "    time.sleep(5)\n",
    "    soup = BeautifulSoup(browser.page_source, 'html.parser')"
   ]
  },
  {
   "cell_type": "code",
   "execution_count": 7,
   "metadata": {},
   "outputs": [],
   "source": [
    "itemsWithPrices = []\n",
    "for item in soup.find_all('article'):\n",
    "    tempList = str(item.get('aria-label')).split(\", \")\n",
    "    if tempList != ['None']:\n",
    "        itemsWithPrices.append(tempList)"
   ]
  },
  {
   "cell_type": "code",
   "execution_count": 8,
   "metadata": {},
   "outputs": [
    {
     "name": "stdout",
     "output_type": "stream",
     "text": [
      "                                                 name      price     x     y  \\\n",
      "0                         FINAL FANTASY XIII XBOX 360   23,90 zł  None  None   \n",
      "1   Final Fantasy XIV 50.000.000 GIL FF14  FFXIV 50M   184,95 zł  None  None   \n",
      "2   Final Fantasy 14 XIV 50.000.000 GIL FF14 FFXIV...  189,95 zł  None  None   \n",
      "3    FINAL FANTASY XIV FF XIV 30 MLN GIL KAŻDY SERWER  103,90 zł  None  None   \n",
      "4    FINAL FANTASY XIV FF XIV 15 MLN GIL KAŻDY SERWER   57,90 zł  None  None   \n",
      "..                                                ...        ...   ...   ...   \n",
      "65  FINAL FANTASY VII REMAKE 7 __ PS4 / PS5 __ WRO...  149,00 zł  None  None   \n",
      "66                              FINAL FANTASY XII PS2   35,50 zł  None  None   \n",
      "67                    PlayStation Final Fantasy IX #3  434,79 zł  None  None   \n",
      "68                                FINAL FANTASY X PS2   17,90 zł  None  None   \n",
      "69          PS4 Crisis Core Final Fantasy VII Reunion  209,00 zł  None  None   \n",
      "\n",
      "       z  \n",
      "0   None  \n",
      "1   None  \n",
      "2   None  \n",
      "3   None  \n",
      "4   None  \n",
      "..   ...  \n",
      "65  None  \n",
      "66  None  \n",
      "67  None  \n",
      "68  None  \n",
      "69  None  \n",
      "\n",
      "[70 rows x 5 columns]\n"
     ]
    }
   ],
   "source": [
    "data = pd.DataFrame(itemsWithPrices, columns=['name', 'price', 'x', 'y', 'z'])\n",
    "print(data)"
   ]
  }
 ],
 "metadata": {
  "kernelspec": {
   "display_name": "Python 3 (ipykernel)",
   "language": "python",
   "name": "python3"
  },
  "language_info": {
   "codemirror_mode": {
    "name": "ipython",
    "version": 3
   },
   "file_extension": ".py",
   "mimetype": "text/x-python",
   "name": "python",
   "nbconvert_exporter": "python",
   "pygments_lexer": "ipython3",
   "version": "3.11.2"
  }
 },
 "nbformat": 4,
 "nbformat_minor": 2
}
